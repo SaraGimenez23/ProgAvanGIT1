{
  "nbformat": 4,
  "nbformat_minor": 0,
  "metadata": {
    "colab": {
      "provenance": [],
      "toc_visible": true,
      "authorship_tag": "ABX9TyP8WzZSMtx3fdmhNx/ThyqX",
      "include_colab_link": true
    },
    "kernelspec": {
      "name": "python3",
      "display_name": "Python 3"
    },
    "language_info": {
      "name": "python"
    }
  },
  "cells": [
    {
      "cell_type": "markdown",
      "metadata": {
        "id": "view-in-github",
        "colab_type": "text"
      },
      "source": [
        "<a href=\"https://colab.research.google.com/github/SaraGimenez23/ProgAvanGIT1/blob/main/P1y2/Pr%C3%A1ctica1y2.ipynb\" target=\"_parent\"><img src=\"https://colab.research.google.com/assets/colab-badge.svg\" alt=\"Open In Colab\"/></a>"
      ]
    },
    {
      "cell_type": "markdown",
      "source": [
        "Sara Giménez Andolfi"
      ],
      "metadata": {
        "id": "DqcLob8Fusf8"
      }
    },
    {
      "cell_type": "markdown",
      "source": [
        "# Ejercicio 1\n"
      ],
      "metadata": {
        "id": "04bpCPPGu0tj"
      }
    },
    {
      "cell_type": "code",
      "source": [
        "for i in range(1, 6):\n",
        "    print(f\"\\nTabla de multiplicar del {i}\")\n",
        "\n",
        "    # Recorremos del 1 al 10 para cada tabla\n",
        "    for j in range(1, 11):\n",
        "        # Usamos continue para omitir los números pares\n",
        "        if i % 2 == 0:\n",
        "            continue\n",
        "\n",
        "        # Si el producto es mayor que 20, terminamos el bucle con break\n",
        "        producto = i * j\n",
        "        if producto > 20:\n",
        "            break\n",
        "\n",
        "        # Usamos pass como una instrucción sin operación\n",
        "        pass\n",
        "\n",
        "        # Imprimimos la multiplicación\n",
        "        print(f\"{i} x {j} = {producto}\")"
      ],
      "metadata": {
        "colab": {
          "base_uri": "https://localhost:8080/"
        },
        "id": "xTtu9cCpu7IT",
        "outputId": "2a758aee-b1c6-429d-c6ed-f3c1955a5e96"
      },
      "execution_count": null,
      "outputs": [
        {
          "output_type": "stream",
          "name": "stdout",
          "text": [
            "\n",
            "Tabla de multiplicar del 1\n",
            "1 x 1 = 1\n",
            "1 x 2 = 2\n",
            "1 x 3 = 3\n",
            "1 x 4 = 4\n",
            "1 x 5 = 5\n",
            "1 x 6 = 6\n",
            "1 x 7 = 7\n",
            "1 x 8 = 8\n",
            "1 x 9 = 9\n",
            "1 x 10 = 10\n",
            "\n",
            "Tabla de multiplicar del 2\n",
            "\n",
            "Tabla de multiplicar del 3\n",
            "3 x 1 = 3\n",
            "3 x 2 = 6\n",
            "3 x 3 = 9\n",
            "3 x 4 = 12\n",
            "3 x 5 = 15\n",
            "3 x 6 = 18\n",
            "\n",
            "Tabla de multiplicar del 4\n",
            "\n",
            "Tabla de multiplicar del 5\n",
            "5 x 1 = 5\n",
            "5 x 2 = 10\n",
            "5 x 3 = 15\n",
            "5 x 4 = 20\n"
          ]
        }
      ]
    },
    {
      "cell_type": "markdown",
      "source": [
        "# Ejercicio 2\n"
      ],
      "metadata": {
        "id": "70ZqhBGy4ix-"
      }
    },
    {
      "cell_type": "code",
      "source": [
        "def process_text(text=\"Este es un texto de ejemplo para procesar\", words_to_replace=None):\n",
        "    # Establecer una lista de palabras por defecto si no se proporciona\n",
        "    if words_to_replace is None:\n",
        "        words_to_replace = [\"texto\", \"ejemplo\", \"procesar\"]\n",
        "\n",
        "    # Convertir la cadena a minúsculas y eliminar los espacios en blanco iniciales y finales\n",
        "    text = text.lower().strip()\n",
        "\n",
        "    # Dividir el texto en palabras\n",
        "    words = text.split()\n",
        "    replaced_count = 0\n",
        "\n",
        "    # Reemplazar las palabras que coincidan con las de la lista\n",
        "    for i in range(len(words)):\n",
        "        if words[i] in words_to_replace:\n",
        "            words[i] = '*' * len(words[i])  # Reemplazar con asteriscos\n",
        "            replaced_count += 1  # Contar cuántas palabras fueron reemplazadas\n",
        "\n",
        "    # Unir las palabras de nuevo en una cadena\n",
        "    processed_text = ' '.join(words)\n",
        "\n",
        "    # Devolver el texto procesado y el conteo de palabras reemplazadas\n",
        "    return processed_text, replaced_count\n",
        "\n",
        "# Función principal para llamar a process_text\n",
        "def main():\n",
        "    # Llamada a process_text con los valores predeterminados\n",
        "    result, count = process_text()\n",
        "    print(f\"Texto procesado: {result}\")\n",
        "    print(f\"Palabras reemplazadas: {count}\")\n",
        "\n",
        "# Ejecutar la función principal\n",
        "if __name__ == \"__main__\":\n",
        "    main()\n",
        ""
      ],
      "metadata": {
        "colab": {
          "base_uri": "https://localhost:8080/"
        },
        "id": "JKWd-dqY4pJj",
        "outputId": "a3f8e044-b55f-4dd5-bad5-bff56bdaca80"
      },
      "execution_count": 1,
      "outputs": [
        {
          "output_type": "stream",
          "name": "stdout",
          "text": [
            "Texto procesado: este es un ***** de ******* para ********\n",
            "Palabras reemplazadas: 3\n"
          ]
        }
      ]
    },
    {
      "cell_type": "markdown",
      "source": [
        "# Ejercicio 3"
      ],
      "metadata": {
        "id": "NwvZsQFecNnF"
      }
    },
    {
      "cell_type": "code",
      "source": [
        "def is_prime(n):\n",
        "    \"\"\"\n",
        "    Comprueba si un número n es primo.\n",
        "\n",
        "    Parámetros:\n",
        "    n (int): El número a comprobar.\n",
        "\n",
        "    Retorna:\n",
        "    bool: True si el número es primo, False en caso contrario.\n",
        "    \"\"\"\n",
        "    if n < 2:\n",
        "        return False\n",
        "    for i in range(2, int(n**0.5) + 1):  # Solo hasta la raíz cuadrada de n\n",
        "        if n % i == 0:\n",
        "            return False\n",
        "    return True\n",
        "\n",
        "\n",
        "def prime_list(limit):\n",
        "    \"\"\"\n",
        "    Genera una lista de números primos hasta un límite dado.\n",
        "\n",
        "    Parámetros:\n",
        "    limit (int): El límite hasta donde generar números primos.\n",
        "\n",
        "    Retorna:\n",
        "    list: Una lista de números primos hasta el límite especificado.\n",
        "    \"\"\"\n",
        "    primes = []\n",
        "    for num in range(2, limit + 1):\n",
        "        if is_prime(num):\n",
        "            primes.append(num)\n",
        "    return primes\n",
        "\n",
        "\n",
        "def check_palindrome(primes):\n",
        "    \"\"\"\n",
        "    Busca números primos palíndromos en una lista de números primos.\n",
        "\n",
        "    Parámetros:\n",
        "    primes (list): Una lista de números primos.\n",
        "\n",
        "    Retorna:\n",
        "    list: Una lista de números primos que son palíndromos.\n",
        "    \"\"\"\n",
        "    palindromes = []\n",
        "    for prime in primes:\n",
        "        if str(prime) == str(prime)[::-1]:  # Compara si el número es igual a su reverso\n",
        "            palindromes.append(prime)\n",
        "    return palindromes\n",
        "\n",
        "\n",
        "def categorize_prime(prime):\n",
        "    \"\"\"\n",
        "    Clasifica los números primos en 'pequeños', 'medianos' o 'grandes'.\n",
        "\n",
        "    Parámetros:\n",
        "    prime (int): Un número primo.\n",
        "\n",
        "    Retorna:\n",
        "    str: La categoría a la que pertenece el número primo.\n",
        "    \"\"\"\n",
        "    if prime < 10:\n",
        "        return \"pequeño\"\n",
        "    elif 10 <= prime < 100:\n",
        "        return \"mediano\"\n",
        "    else:\n",
        "        return \"grande\"\n",
        "\n",
        "\n",
        "def main():\n",
        "    \"\"\"\n",
        "    Función principal para probar las funciones del programa.\n",
        "    \"\"\"\n",
        "    # Solicitar límite de números primos\n",
        "    limit = int(input(\"Ingrese el límite hasta donde buscar números primos: \"))\n",
        "\n",
        "    # Generar lista de números primos\n",
        "    primes = prime_list(limit)\n",
        "    print(f\"Números primos hasta {limit}: {primes}\")\n",
        "\n",
        "    # Buscar números primos que sean palíndromos\n",
        "    palindromes = check_palindrome(primes)\n",
        "    print(f\"Números primos que son palíndromos: {palindromes}\")\n",
        "\n",
        "    # Clasificar cada número primo\n",
        "    print(\"Clasificación de los números primos:\")\n",
        "    for prime in primes:\n",
        "        category = categorize_prime(prime)\n",
        "        print(f\"El número primo {prime} es {category}.\")\n",
        "\n",
        "\n",
        "# Ejecutar la función principal\n",
        "if __name__ == \"__main__\":\n",
        "    main()"
      ],
      "metadata": {
        "colab": {
          "base_uri": "https://localhost:8080/"
        },
        "id": "tP63S-CxcbPa",
        "outputId": "45d1923c-ae9f-4abe-c731-b17ac4f9021a"
      },
      "execution_count": 2,
      "outputs": [
        {
          "output_type": "stream",
          "name": "stdout",
          "text": [
            "Ingrese el límite hasta donde buscar números primos: 20\n",
            "Números primos hasta 20: [2, 3, 5, 7, 11, 13, 17, 19]\n",
            "Números primos que son palíndromos: [2, 3, 5, 7, 11]\n",
            "Clasificación de los números primos:\n",
            "El número primo 2 es pequeño.\n",
            "El número primo 3 es pequeño.\n",
            "El número primo 5 es pequeño.\n",
            "El número primo 7 es pequeño.\n",
            "El número primo 11 es mediano.\n",
            "El número primo 13 es mediano.\n",
            "El número primo 17 es mediano.\n",
            "El número primo 19 es mediano.\n"
          ]
        }
      ]
    },
    {
      "cell_type": "markdown",
      "source": [
        "# Ejercicio 4"
      ],
      "metadata": {
        "id": "f0vDou72dDfp"
      }
    },
    {
      "cell_type": "code",
      "source": [
        "def suma_total(numeros):\n",
        "    \"\"\"\n",
        "    Calcula la suma de todos los números de la lista.\n",
        "\n",
        "    Parámetros:\n",
        "    numeros (list): Lista de números enteros.\n",
        "\n",
        "    Retorna:\n",
        "    int: Suma de todos los números.\n",
        "    \"\"\"\n",
        "    return sum(numeros)\n",
        "\n",
        "\n",
        "def suma_positivos_negativos(numeros):\n",
        "    \"\"\"\n",
        "    Calcula la suma de los números positivos y negativos por separado.\n",
        "\n",
        "    Parámetros:\n",
        "    numeros (list): Lista de números enteros.\n",
        "\n",
        "    Retorna:\n",
        "    tuple: Suma de positivos y suma de negativos.\n",
        "    \"\"\"\n",
        "    suma_positivos = sum(n for n in numeros if n > 0)\n",
        "    suma_negativos = sum(n for n in numeros if n < 0)\n",
        "    return suma_positivos, suma_negativos\n",
        "\n",
        "\n",
        "def max_min(numeros):\n",
        "    \"\"\"\n",
        "    Encuentra el número máximo y el mínimo de la lista.\n",
        "\n",
        "    Parámetros:\n",
        "    numeros (list): Lista de números enteros.\n",
        "\n",
        "    Retorna:\n",
        "    tuple: El número máximo y mínimo.\n",
        "    \"\"\"\n",
        "    return max(numeros), min(numeros)\n",
        "\n",
        "\n",
        "def todos_unicos(numeros):\n",
        "    \"\"\"\n",
        "    Comprueba si todos los números en la lista son únicos.\n",
        "\n",
        "    Parámetros:\n",
        "    numeros (list): Lista de números enteros.\n",
        "\n",
        "    Retorna:\n",
        "    bool: True si todos los números son únicos, False si hay repetidos.\n",
        "    \"\"\"\n",
        "    return len(numeros) == len(set(numeros))\n",
        "\n",
        "\n",
        "def mas_positivos_o_negativos(numeros):\n",
        "    \"\"\"\n",
        "    Devuelve un mensaje que indica si hay más números positivos o negativos en la lista.\n",
        "\n",
        "    Parámetros:\n",
        "    numeros (list): Lista de números enteros.\n",
        "\n",
        "    Retorna:\n",
        "    str: Mensaje indicando si hay más positivos, negativos o si están equilibrados.\n",
        "    \"\"\"\n",
        "    positivos = sum(1 for n in numeros if n > 0)\n",
        "    negativos = sum(1 for n in numeros if n < 0)\n",
        "\n",
        "    return (\"Más positivos\" if positivos > negativos else\n",
        "            \"Más negativos\" if negativos > positivos else\n",
        "            \"Igual número de positivos y negativos\")\n",
        "\n",
        "\n",
        "def main():\n",
        "    \"\"\"\n",
        "    Función principal que presenta un menú para interactuar con el usuario y realizar las operaciones\n",
        "    sobre la lista de números.\n",
        "    \"\"\"\n",
        "    # Leer una lista de números enteros\n",
        "    numeros = list(map(int, input(\"Ingrese una lista de números enteros separados por espacio: \").split()))\n",
        "\n",
        "    while True:\n",
        "        # Mostrar menú de opciones\n",
        "        print(\"\\nMenú de opciones:\")\n",
        "        print(\"1. Calcular la suma de todos los números\")\n",
        "        print(\"2. Calcular la suma de positivos y negativos por separado\")\n",
        "        print(\"3. Encontrar el número máximo y mínimo\")\n",
        "        print(\"4. Comprobar si todos los números son únicos\")\n",
        "        print(\"5. Ver si hay más números positivos o negativos\")\n",
        "        print(\"6. Salir\")\n",
        "\n",
        "        # Leer la opción del usuario\n",
        "        opcion = input(\"Seleccione una opción: \")\n",
        "\n",
        "        if opcion == '1':\n",
        "            total = suma_total(numeros)\n",
        "            print(f\"La suma de todos los números es: {total}\")\n",
        "\n",
        "        elif opcion == '2':\n",
        "            suma_positivos, suma_negativos = suma_positivos_negativos(numeros)\n",
        "            print(f\"Suma de números positivos: {suma_positivos}\")\n",
        "            print(f\"Suma de números negativos: {suma_negativos}\")\n",
        "\n",
        "        elif opcion == '3':\n",
        "            maximo, minimo = max_min(numeros)\n",
        "            print(f\"El número máximo es: {maximo}\")\n",
        "            print(f\"El número mínimo es: {minimo}\")\n",
        "\n",
        "        elif opcion == '4':\n",
        "            if todos_unicos(numeros):\n",
        "                print(\"Todos los números son únicos.\")\n",
        "            else:\n",
        "                print(\"Hay números repetidos.\")\n",
        "\n",
        "        elif opcion == '5':\n",
        "            mensaje = mas_positivos_o_negativos(numeros)\n",
        "            print(mensaje)\n",
        "\n",
        "        elif opcion == '6':\n",
        "            print(\"Saliendo del programa...\")\n",
        "            break\n",
        "\n",
        "        else:\n",
        "            print(\"Opción no válida. Intente de nuevo.\")\n",
        "\n",
        "\n",
        "# Ejecutar la función principal\n",
        "if __name__ == \"__main__\":\n",
        "    main()"
      ],
      "metadata": {
        "colab": {
          "base_uri": "https://localhost:8080/"
        },
        "id": "TnzZShAmeARg",
        "outputId": "15a7a5cd-4d2e-41a0-fc88-0c6714744bc7"
      },
      "execution_count": 4,
      "outputs": [
        {
          "output_type": "stream",
          "name": "stdout",
          "text": [
            "Ingrese una lista de números enteros separados por espacio: 2 4 17 9 32\n",
            "\n",
            "Menú de opciones:\n",
            "1. Calcular la suma de todos los números\n",
            "2. Calcular la suma de positivos y negativos por separado\n",
            "3. Encontrar el número máximo y mínimo\n",
            "4. Comprobar si todos los números son únicos\n",
            "5. Ver si hay más números positivos o negativos\n",
            "6. Salir\n",
            "Seleccione una opción: 1\n",
            "La suma de todos los números es: 64\n",
            "\n",
            "Menú de opciones:\n",
            "1. Calcular la suma de todos los números\n",
            "2. Calcular la suma de positivos y negativos por separado\n",
            "3. Encontrar el número máximo y mínimo\n",
            "4. Comprobar si todos los números son únicos\n",
            "5. Ver si hay más números positivos o negativos\n",
            "6. Salir\n",
            "Seleccione una opción: 2\n",
            "Suma de números positivos: 64\n",
            "Suma de números negativos: 0\n",
            "\n",
            "Menú de opciones:\n",
            "1. Calcular la suma de todos los números\n",
            "2. Calcular la suma de positivos y negativos por separado\n",
            "3. Encontrar el número máximo y mínimo\n",
            "4. Comprobar si todos los números son únicos\n",
            "5. Ver si hay más números positivos o negativos\n",
            "6. Salir\n",
            "Seleccione una opción: 3\n",
            "El número máximo es: 32\n",
            "El número mínimo es: 2\n",
            "\n",
            "Menú de opciones:\n",
            "1. Calcular la suma de todos los números\n",
            "2. Calcular la suma de positivos y negativos por separado\n",
            "3. Encontrar el número máximo y mínimo\n",
            "4. Comprobar si todos los números son únicos\n",
            "5. Ver si hay más números positivos o negativos\n",
            "6. Salir\n",
            "Seleccione una opción: 4\n",
            "Todos los números son únicos.\n",
            "\n",
            "Menú de opciones:\n",
            "1. Calcular la suma de todos los números\n",
            "2. Calcular la suma de positivos y negativos por separado\n",
            "3. Encontrar el número máximo y mínimo\n",
            "4. Comprobar si todos los números son únicos\n",
            "5. Ver si hay más números positivos o negativos\n",
            "6. Salir\n",
            "Seleccione una opción: 5\n",
            "Más positivos\n",
            "\n",
            "Menú de opciones:\n",
            "1. Calcular la suma de todos los números\n",
            "2. Calcular la suma de positivos y negativos por separado\n",
            "3. Encontrar el número máximo y mínimo\n",
            "4. Comprobar si todos los números son únicos\n",
            "5. Ver si hay más números positivos o negativos\n",
            "6. Salir\n",
            "Seleccione una opción: 6\n",
            "Saliendo del programa...\n"
          ]
        }
      ]
    },
    {
      "cell_type": "markdown",
      "source": [
        "# Ejercicio 5\n"
      ],
      "metadata": {
        "id": "YPSiwMg9ehKq"
      }
    }
  ]
}