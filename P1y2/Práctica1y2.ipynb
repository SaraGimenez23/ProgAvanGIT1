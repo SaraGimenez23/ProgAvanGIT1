{
  "nbformat": 4,
  "nbformat_minor": 0,
  "metadata": {
    "colab": {
      "provenance": [],
      "authorship_tag": "ABX9TyOiksO9x4tCn/dDIJonNziP",
      "include_colab_link": true
    },
    "kernelspec": {
      "name": "python3",
      "display_name": "Python 3"
    },
    "language_info": {
      "name": "python"
    }
  },
  "cells": [
    {
      "cell_type": "markdown",
      "metadata": {
        "id": "view-in-github",
        "colab_type": "text"
      },
      "source": [
        "<a href=\"https://colab.research.google.com/github/SaraGimenez23/ProgAvanGIT1/blob/main/P1y2/Pr%C3%A1ctica1y2.ipynb\" target=\"_parent\"><img src=\"https://colab.research.google.com/assets/colab-badge.svg\" alt=\"Open In Colab\"/></a>"
      ]
    },
    {
      "cell_type": "markdown",
      "source": [
        "Sara Giménez Andolfi"
      ],
      "metadata": {
        "id": "DqcLob8Fusf8"
      }
    },
    {
      "cell_type": "markdown",
      "source": [
        "# Ejercicio 1\n"
      ],
      "metadata": {
        "id": "04bpCPPGu0tj"
      }
    },
    {
      "cell_type": "code",
      "source": [
        "for i in range(1, 6):\n",
        "    print(f\"\\nTabla de multiplicar del {i}\")\n",
        "\n",
        "    # Recorremos del 1 al 10 para cada tabla\n",
        "    for j in range(1, 11):\n",
        "        # Usamos continue para omitir los números pares\n",
        "        if i % 2 == 0:\n",
        "            continue\n",
        "\n",
        "        # Si el producto es mayor que 20, terminamos el bucle con break\n",
        "        producto = i * j\n",
        "        if producto > 20:\n",
        "            break\n",
        "\n",
        "        # Usamos pass como una instrucción sin operación\n",
        "        pass\n",
        "\n",
        "        # Imprimimos la multiplicación\n",
        "        print(f\"{i} x {j} = {producto}\")"
      ],
      "metadata": {
        "colab": {
          "base_uri": "https://localhost:8080/"
        },
        "id": "xTtu9cCpu7IT",
        "outputId": "2a758aee-b1c6-429d-c6ed-f3c1955a5e96"
      },
      "execution_count": null,
      "outputs": [
        {
          "output_type": "stream",
          "name": "stdout",
          "text": [
            "\n",
            "Tabla de multiplicar del 1\n",
            "1 x 1 = 1\n",
            "1 x 2 = 2\n",
            "1 x 3 = 3\n",
            "1 x 4 = 4\n",
            "1 x 5 = 5\n",
            "1 x 6 = 6\n",
            "1 x 7 = 7\n",
            "1 x 8 = 8\n",
            "1 x 9 = 9\n",
            "1 x 10 = 10\n",
            "\n",
            "Tabla de multiplicar del 2\n",
            "\n",
            "Tabla de multiplicar del 3\n",
            "3 x 1 = 3\n",
            "3 x 2 = 6\n",
            "3 x 3 = 9\n",
            "3 x 4 = 12\n",
            "3 x 5 = 15\n",
            "3 x 6 = 18\n",
            "\n",
            "Tabla de multiplicar del 4\n",
            "\n",
            "Tabla de multiplicar del 5\n",
            "5 x 1 = 5\n",
            "5 x 2 = 10\n",
            "5 x 3 = 15\n",
            "5 x 4 = 20\n"
          ]
        }
      ]
    },
    {
      "cell_type": "markdown",
      "source": [
        "# Ejercicio 2\n"
      ],
      "metadata": {
        "id": "70ZqhBGy4ix-"
      }
    },
    {
      "cell_type": "code",
      "source": [],
      "metadata": {
        "id": "JKWd-dqY4pJj"
      },
      "execution_count": null,
      "outputs": []
    }
  ]
}